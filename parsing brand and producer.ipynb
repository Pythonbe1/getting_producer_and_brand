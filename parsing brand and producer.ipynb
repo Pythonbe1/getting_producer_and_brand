{
 "cells": [
  {
   "cell_type": "markdown",
   "metadata": {},
   "source": [
    "# Parsing brand name"
   ]
  },
  {
   "cell_type": "code",
   "execution_count": null,
   "metadata": {},
   "outputs": [],
   "source": [
    "from bs4 import BeautifulSoup\n",
    "from selenium import webdriver\n",
    "from selenium.webdriver.common.keys import Keys\n",
    "import time\n",
    "from selenium.webdriver.chrome.options import Options\n",
    "from fake_useragent import UserAgent\n",
    "from selenium.common.exceptions import ElementClickInterceptedException\n",
    "from selenium.common.exceptions import NoSuchElementException\n",
    "options = Options()\n",
    "ua = UserAgent()\n",
    "userAgent = ua.random\n",
    "options.add_argument(f'user-agent={userAgent}')\n",
    "driver = webdriver.Chrome(executable_path='C:\\\\Users\\\\svnduw\\\\.wdm\\\\drivers\\\\chromedriver\\\\win32\\\\93.0.4577.15\\\\chromedriver.exe',chrome_options=options)\n",
    "driver.get(\"https://retailcontentservice.com/\")"
   ]
  },
  {
   "cell_type": "code",
   "execution_count": null,
   "metadata": {},
   "outputs": [],
   "source": [
    "l={}\n",
    "for i in barcode:\n",
    "    try:\n",
    "        inputElems=driver.find_element_by_id('searchInput')\n",
    "        inputElems.clear()\n",
    "        inputElems.send_keys(str(i))\n",
    "        inputElems.send_keys(Keys.ENTER)\n",
    "        time.sleep(2)\n",
    "        driver.find_element_by_xpath('/html/body/section/section[2]/div/div[2]/div[2]/div/div/div/div[2]/a').click()        \n",
    "        a=driver.find_elements_by_xpath('/html/body/section/section/section[2]/div/div/div[2]/div/div/ul/li[1]')\n",
    "        l[i]=a[0].text\n",
    "    except NoSuchElementException:\n",
    "        continue\n",
    "    except ElementClickInterceptedException:\n",
    "        continue\n",
    "    except IndexError:\n",
    "        continue"
   ]
  },
  {
   "cell_type": "markdown",
   "metadata": {},
   "source": [
    "# Parsing producer name"
   ]
  },
  {
   "cell_type": "code",
   "execution_count": null,
   "metadata": {},
   "outputs": [],
   "source": [
    "producer={}\n",
    "for i in barcode:\n",
    "    try:\n",
    "        inputElems=driver.find_element_by_id('searchInput')\n",
    "        inputElems.clear()\n",
    "        inputElems.send_keys(str(i))\n",
    "        inputElems.send_keys(Keys.ENTER)        \n",
    "        driver.find_element_by_xpath('/html/body/section/section[2]/div/div[2]/div[2]/div/div/div/div[2]/a').click()        \n",
    "        a=driver.find_elements_by_xpath('/html/body/section/section/section[2]/div/div/div[2]/div/div[2]/div/div[2]/p/a')\n",
    "        producer[i]=a[0].text\n",
    "    except NoSuchElementException:\n",
    "        continue\n",
    "    except ElementClickInterceptedException:\n",
    "        continue\n",
    "    except IndexError:\n",
    "        continue        "
   ]
  }
 ],
 "metadata": {
  "kernelspec": {
   "display_name": "Python 3",
   "language": "python",
   "name": "python3"
  },
  "language_info": {
   "codemirror_mode": {
    "name": "ipython",
    "version": 3
   },
   "file_extension": ".py",
   "mimetype": "text/x-python",
   "name": "python",
   "nbconvert_exporter": "python",
   "pygments_lexer": "ipython3",
   "version": "3.8.5"
  }
 },
 "nbformat": 4,
 "nbformat_minor": 4
}
